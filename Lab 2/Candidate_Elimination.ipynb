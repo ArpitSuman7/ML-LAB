{
  "nbformat": 4,
  "nbformat_minor": 0,
  "metadata": {
    "colab": {
      "name": "Candidate_Elimination.ipynb",
      "provenance": [],
      "collapsed_sections": [],
      "authorship_tag": "ABX9TyOjD2e73yAqXYer+UnGizJX",
      "include_colab_link": true
    },
    "kernelspec": {
      "name": "python3",
      "display_name": "Python 3"
    },
    "language_info": {
      "name": "python"
    }
  },
  "cells": [
    {
      "cell_type": "markdown",
      "metadata": {
        "id": "view-in-github",
        "colab_type": "text"
      },
      "source": [
        "<a href=\"https://colab.research.google.com/github/ArpitSuman7/ML-LAB/blob/main/Lab%202/Candidate_Elimination.ipynb\" target=\"_parent\"><img src=\"https://colab.research.google.com/assets/colab-badge.svg\" alt=\"Open In Colab\"/></a>"
      ]
    },
    {
      "cell_type": "code",
      "source": [
        "import numpy as np\n",
        "import pandas as pd\n",
        "data = pd.read_csv('data.csv')\n",
        "concepts = np.array(data.iloc[:,0:-1])\n",
        "print(\"\\nInstances:\\n\",concepts)\n",
        "target = np.array(data.iloc[:,-1])\n",
        "print(\"\\nTarget Values: \",target)\n",
        "def learn(concepts, target):\n",
        "    sh = concepts[0].copy()\n",
        "    print(\"\\nInitialization of specific and genearal hypothesis\")\n",
        "    print(\"\\nSpecific boundary: \", sh)\n",
        "    gh = [[\"?\" for i in range(len(sh))] for i in range(len(sh))]\n",
        "    print(\"\\nGeneric boundary: \",gh)  \n",
        "    for i, h in enumerate(concepts):\n",
        "        print(\"\\nInstance\", i+1 , \"is \", h)\n",
        "        if target[i] == \"yes\":\n",
        "            print(\"Instance is positive \")\n",
        "            for x in range(len(sh)):\n",
        "                if h[x]!= sh[x]:                    \n",
        "                    sh[x] ='?'                    \n",
        "                    gh[x][x] ='?'       \n",
        "        if target[i] == \"no\":            \n",
        "            print(\"Instance is negative \")\n",
        "            for x in range(len(sh)):\n",
        "                if h[x]!= sh[x]:                    \n",
        "                    gh[x][x] = sh[x]                \n",
        "                else:                    \n",
        "                    gh[x][x] = '?'        \n",
        "        print(\"Specific boundary after \", i+1, \"instance is \", sh)        \n",
        "        print(\"Generic boundary after \", i+1, \"instance is \", gh)\n",
        "        print(\"\\n\")\n",
        "    indices = [i for i, val in enumerate(gh) if val == ['?', '?', '?', '?', '?', '?']]    \n",
        "    for i in indices:  \n",
        "        gh.remove(['?', '?', '?', '?', '?', '?'])\n",
        "    return sh, gh\n",
        "sf, gf = learn(concepts, target)\n",
        "print(\"Final specific hypothesis: \", sf, sep=\"\\n\")\n",
        "print(\"Final general hypothesis: \", gf, sep=\"\\n\")"
      ],
      "metadata": {
        "colab": {
          "base_uri": "https://localhost:8080/"
        },
        "id": "OajECbNdq33H",
        "outputId": "4300f62b-5210-4880-d0fa-2d44371c1a13"
      },
      "execution_count": 1,
      "outputs": [
        {
          "output_type": "stream",
          "name": "stdout",
          "text": [
            "\n",
            "Instances:\n",
            " [['sunny' 'warm' 'normal' 'strong' 'warm' 'same']\n",
            " ['sunny' 'warm' 'high' 'strong' 'warm' 'same']\n",
            " ['rainy' 'cold' 'high' 'strong' 'warm' 'change']\n",
            " ['sunny' 'warm' 'high' 'strong' 'cool' 'change']]\n",
            "\n",
            "Target Values:  ['yes' 'yes' 'no' 'yes']\n",
            "\n",
            "Initialization of specific and genearal hypothesis\n",
            "\n",
            "Specific boundary:  ['sunny' 'warm' 'normal' 'strong' 'warm' 'same']\n",
            "\n",
            "Generic boundary:  [['?', '?', '?', '?', '?', '?'], ['?', '?', '?', '?', '?', '?'], ['?', '?', '?', '?', '?', '?'], ['?', '?', '?', '?', '?', '?'], ['?', '?', '?', '?', '?', '?'], ['?', '?', '?', '?', '?', '?']]\n",
            "\n",
            "Instance 1 is  ['sunny' 'warm' 'normal' 'strong' 'warm' 'same']\n",
            "Instance is positive \n",
            "Specific boundary after  1 instance is  ['sunny' 'warm' 'normal' 'strong' 'warm' 'same']\n",
            "Generic boundary after  1 instance is  [['?', '?', '?', '?', '?', '?'], ['?', '?', '?', '?', '?', '?'], ['?', '?', '?', '?', '?', '?'], ['?', '?', '?', '?', '?', '?'], ['?', '?', '?', '?', '?', '?'], ['?', '?', '?', '?', '?', '?']]\n",
            "\n",
            "\n",
            "\n",
            "Instance 2 is  ['sunny' 'warm' 'high' 'strong' 'warm' 'same']\n",
            "Instance is positive \n",
            "Specific boundary after  2 instance is  ['sunny' 'warm' '?' 'strong' 'warm' 'same']\n",
            "Generic boundary after  2 instance is  [['?', '?', '?', '?', '?', '?'], ['?', '?', '?', '?', '?', '?'], ['?', '?', '?', '?', '?', '?'], ['?', '?', '?', '?', '?', '?'], ['?', '?', '?', '?', '?', '?'], ['?', '?', '?', '?', '?', '?']]\n",
            "\n",
            "\n",
            "\n",
            "Instance 3 is  ['rainy' 'cold' 'high' 'strong' 'warm' 'change']\n",
            "Instance is negative \n",
            "Specific boundary after  3 instance is  ['sunny' 'warm' '?' 'strong' 'warm' 'same']\n",
            "Generic boundary after  3 instance is  [['sunny', '?', '?', '?', '?', '?'], ['?', 'warm', '?', '?', '?', '?'], ['?', '?', '?', '?', '?', '?'], ['?', '?', '?', '?', '?', '?'], ['?', '?', '?', '?', '?', '?'], ['?', '?', '?', '?', '?', 'same']]\n",
            "\n",
            "\n",
            "\n",
            "Instance 4 is  ['sunny' 'warm' 'high' 'strong' 'cool' 'change']\n",
            "Instance is positive \n",
            "Specific boundary after  4 instance is  ['sunny' 'warm' '?' 'strong' '?' '?']\n",
            "Generic boundary after  4 instance is  [['sunny', '?', '?', '?', '?', '?'], ['?', 'warm', '?', '?', '?', '?'], ['?', '?', '?', '?', '?', '?'], ['?', '?', '?', '?', '?', '?'], ['?', '?', '?', '?', '?', '?'], ['?', '?', '?', '?', '?', '?']]\n",
            "\n",
            "\n",
            "Final specific hypothesis: \n",
            "['sunny' 'warm' '?' 'strong' '?' '?']\n",
            "Final general hypothesis: \n",
            "[['sunny', '?', '?', '?', '?', '?'], ['?', 'warm', '?', '?', '?', '?']]\n"
          ]
        }
      ]
    },
    {
      "cell_type": "markdown",
      "source": [
        "# New Section"
      ],
      "metadata": {
        "id": "2-XZc9NuCy26"
      }
    }
  ]
}