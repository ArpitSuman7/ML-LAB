{
  "nbformat": 4,
  "nbformat_minor": 0,
  "metadata": {
    "colab": {
      "name": "Weighted_Regression.ipynb",
      "provenance": [],
      "collapsed_sections": [],
      "authorship_tag": "ABX9TyPmZuWrSPfbEFJ/AVKwTLpK",
      "include_colab_link": true
    },
    "kernelspec": {
      "name": "python3",
      "display_name": "Python 3"
    },
    "language_info": {
      "name": "python"
    }
  },
  "cells": [
    {
      "cell_type": "markdown",
      "metadata": {
        "id": "view-in-github",
        "colab_type": "text"
      },
      "source": [
        "<a href=\"https://colab.research.google.com/github/ArpitSuman7/ML-LAB/blob/main/Lab%2010/Weighted_Regression.ipynb\" target=\"_parent\"><img src=\"https://colab.research.google.com/assets/colab-badge.svg\" alt=\"Open In Colab\"/></a>"
      ]
    },
    {
      "cell_type": "code",
      "execution_count": null,
      "metadata": {
        "colab": {
          "base_uri": "https://localhost:8080/",
          "height": 279
        },
        "id": "ueb4VxEYqbHo",
        "outputId": "4a7603fd-7da2-44c1-dbda-4343838a15da"
      },
      "outputs": [
        {
          "output_type": "display_data",
          "data": {
            "text/plain": [
              "<Figure size 432x288 with 1 Axes>"
            ],
            "image/png": "[encoded data removed]"
          },
          "metadata": {
            "needs_background": "light"
          }
        }
      ],
      "source": [
        "from numpy import *\n",
        "from os import listdir\n",
        "import matplotlib\n",
        "import matplotlib.pyplot as plt\n",
        "import pandas as pd\n",
        "import numpy as np1\n",
        "import numpy.linalg as np\n",
        "from scipy.stats.stats import pearsonr\n",
        "def kernel(point,xmat, k):\n",
        " m,n = np1.shape(xmat)\n",
        " weights = np1.mat(np1.eye((m)))\n",
        " for j in range(m):\n",
        "    diff = point - X[j]\n",
        "    weights[j,j] = np1.exp(diff*diff.T/(-2.0*k**2))\n",
        " return weights\n",
        "def localWeight(point,xmat,ymat,k):\n",
        "  wei = kernel(point,xmat,k)\n",
        "  W = (X.T*(wei*X)).I*(X.T*(wei*ymat.T))\n",
        "  return W\n",
        "def localWeightRegression(xmat,ymat,k):\n",
        " m,n = np1.shape(xmat)\n",
        " ypred = np1.zeros(m)\n",
        " for i in range(m):\n",
        "    ypred[i] = xmat[i]*localWeight(xmat[i],xmat,ymat,k)\n",
        " return ypred\n",
        " # load data points\n",
        "data = pd.read_csv('/content/tips.csv')\n",
        "bill = np1.array(data.total_bill)\n",
        "tip = np1.array(data.tip)\n",
        "#preparing and add 1 in bill\n",
        "mbill = np1.mat(bill)\n",
        "mtip = np1.mat(tip) # mat is used to convert to n dimesiona to 2 dimensional array form\n",
        "m= np1.shape(mbill)[1]\n",
        "# print(m) 244 data is stored in m\n",
        "one = np1.mat(np1.ones(m))\n",
        "X= np1.hstack((one.T,mbill.T)) # create a stack of bill from ONE\n",
        "#print(X)\n",
        "#set k here\n",
        "ypred = localWeightRegression(X,mtip,2)\n",
        "SortIndex = X[:,1].argsort(0)\n",
        "xsort = X[SortIndex][:,0]\n",
        "fig = plt.figure()\n",
        "ax = fig.add_subplot(1,1,1)\n",
        "ax.scatter(bill,tip, color='red')\n",
        "ax.plot(xsort[:,1],ypred[SortIndex], color = 'black', linewidth=1)\n",
        "plt.xlabel('Total bill')\n",
        "plt.ylabel('Tip')\n",
        "plt.show()"
      ]
    }
  ]
}