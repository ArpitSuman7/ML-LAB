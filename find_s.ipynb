{
  "nbformat": 4,
  "nbformat_minor": 0,
  "metadata": {
    "colab": {
      "name": "find s.ipynb",
      "provenance": [],
      "collapsed_sections": [],
      "authorship_tag": "ABX9TyMOnMz0qTumoVoKxgKfWsBF",
      "include_colab_link": true
    },
    "kernelspec": {
      "name": "python3",
      "display_name": "Python 3"
    },
    "language_info": {
      "name": "python"
    }
  },
  "cells": [
    {
      "cell_type": "markdown",
      "metadata": {
        "id": "view-in-github",
        "colab_type": "text"
      },
      "source": [
        "<a href=\"https://colab.research.google.com/github/ArpitSuman7/ML-LAB/blob/main/find_s.ipynb\" target=\"_parent\"><img src=\"https://colab.research.google.com/assets/colab-badge.svg\" alt=\"Open In Colab\"/></a>"
      ]
    },
    {
      "cell_type": "code",
      "execution_count": 2,
      "metadata": {
        "colab": {
          "base_uri": "https://localhost:8080/"
        },
        "id": "87vjXFDKq9Qp",
        "outputId": "27af5b39-622b-4c23-c065-cf2f5ee4bfd9"
      },
      "outputs": [
        {
          "output_type": "stream",
          "name": "stdout",
          "text": [
            "The attributes are:  ['sky' 'air temp' 'humidity' 'wind' 'water' 'forecast']\n",
            "The target is:  ['yes' 'yes' 'no' 'yes']\n",
            "The final hypothesis is: ['sunny' 'warm' '?' 'strong' '?' '?']\n"
          ]
        }
      ],
      "source": [
        "import pandas as pd\n",
        "import numpy as np\n",
        "import re\n",
        "df = pd.read_csv(\"data.csv\")\n",
        "df.head()\n",
        "d = df.iloc[:,:-1]\n",
        "print(\"The attributes are: \",d.columns.values)\n",
        "\n",
        "target = df.iloc[:,-1]\n",
        "print(\"The target is: \",target.values)\n",
        "def trainHypothesis(c,t):\n",
        "    hypothesis = [None for i in range(len(c))]\n",
        "    for i, val in zip(c,t):\n",
        "        if re.search(\"^yes$\",val,re.I):\n",
        "            hypothesis = i.copy()\n",
        "            break\n",
        "             \n",
        "    for i, val in zip(c,t):\n",
        "        if re.search(\"^yes$\",val,re.I):\n",
        "            for x in range(len(hypothesis)):\n",
        "                if i[x] != hypothesis[x]:\n",
        "                    hypothesis[x] = '?'\n",
        "    return hypothesis\n",
        "print(\"The final hypothesis is:\", trainHypothesis(d.values,target.values))"
      ]
    }
  ]
}